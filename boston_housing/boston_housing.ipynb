{
 "cells": [
  {
   "cell_type": "code",
   "execution_count": 10,
   "metadata": {},
   "outputs": [],
   "source": [
    "import tensorflow as tf\n",
    "import matplotlib.pyplot as plt\n",
    "from sklearn.preprocessing import StandardScaler\n"
   ]
  },
  {
   "cell_type": "code",
   "execution_count": 6,
   "metadata": {},
   "outputs": [],
   "source": [
    "(x_train, y_train), (x_test, y_test) =tf.keras.datasets.boston_housing.load_data(\n",
    "    path='boston_housing.npz', test_split=0.2, seed=113\n",
    ")"
   ]
  },
  {
   "cell_type": "code",
   "execution_count": 11,
   "metadata": {},
   "outputs": [],
   "source": [
    "# Standardize the features\n",
    "scaler = StandardScaler()\n",
    "x_train_scaled = scaler.fit_transform(x_train)\n",
    "x_test_scaled = scaler.transform(x_test)"
   ]
  },
  {
   "cell_type": "code",
   "execution_count": 12,
   "metadata": {},
   "outputs": [],
   "source": [
    "# Define the model architecture\n",
    "model = tf.keras.Sequential([\n",
    "    tf.keras.layers.Dense(64, activation='relu', input_shape=(x_train.shape[1],)),\n",
    "    tf.keras.layers.Dense(32, activation='relu'),\n",
    "    tf.keras.layers.Dense(1)  # Output layer for regression\n",
    "])"
   ]
  },
  {
   "cell_type": "code",
   "execution_count": 13,
   "metadata": {},
   "outputs": [],
   "source": [
    "# Compile the model\n",
    "model.compile(optimizer='adam', loss='mean_squared_error')\n"
   ]
  },
  {
   "cell_type": "code",
   "execution_count": 14,
   "metadata": {},
   "outputs": [
    {
     "name": "stdout",
     "output_type": "stream",
     "text": [
      "Epoch 1/50\n",
      "13/13 [==============================] - 2s 28ms/step - loss: 547.3511 - val_loss: 548.3683\n",
      "Epoch 2/50\n",
      "13/13 [==============================] - 0s 12ms/step - loss: 497.0401 - val_loss: 490.0508\n",
      "Epoch 3/50\n",
      "13/13 [==============================] - 0s 11ms/step - loss: 435.5481 - val_loss: 415.6915\n",
      "Epoch 4/50\n",
      "13/13 [==============================] - 0s 10ms/step - loss: 357.8718 - val_loss: 324.3707\n",
      "Epoch 5/50\n",
      "13/13 [==============================] - 0s 10ms/step - loss: 266.1480 - val_loss: 228.0810\n",
      "Epoch 6/50\n",
      "13/13 [==============================] - 0s 10ms/step - loss: 178.1874 - val_loss: 147.1390\n",
      "Epoch 7/50\n",
      "13/13 [==============================] - 0s 10ms/step - loss: 116.8279 - val_loss: 97.8731\n",
      "Epoch 8/50\n",
      "13/13 [==============================] - 0s 10ms/step - loss: 81.0923 - val_loss: 73.0489\n",
      "Epoch 9/50\n",
      "13/13 [==============================] - 0s 10ms/step - loss: 61.6440 - val_loss: 56.3676\n",
      "Epoch 10/50\n",
      "13/13 [==============================] - 0s 10ms/step - loss: 47.0347 - val_loss: 44.4812\n",
      "Epoch 11/50\n",
      "13/13 [==============================] - 0s 10ms/step - loss: 36.7046 - val_loss: 37.0526\n",
      "Epoch 12/50\n",
      "13/13 [==============================] - 0s 11ms/step - loss: 30.1589 - val_loss: 32.8714\n",
      "Epoch 13/50\n",
      "13/13 [==============================] - 0s 10ms/step - loss: 26.0766 - val_loss: 29.9637\n",
      "Epoch 14/50\n",
      "13/13 [==============================] - 0s 10ms/step - loss: 23.4483 - val_loss: 28.0021\n",
      "Epoch 15/50\n",
      "13/13 [==============================] - 0s 10ms/step - loss: 21.5701 - val_loss: 27.0441\n",
      "Epoch 16/50\n",
      "13/13 [==============================] - 0s 12ms/step - loss: 20.3402 - val_loss: 26.3488\n",
      "Epoch 17/50\n",
      "13/13 [==============================] - 0s 10ms/step - loss: 19.1518 - val_loss: 25.7647\n",
      "Epoch 18/50\n",
      "13/13 [==============================] - 0s 10ms/step - loss: 18.4184 - val_loss: 25.1839\n",
      "Epoch 19/50\n",
      "13/13 [==============================] - 0s 11ms/step - loss: 17.6149 - val_loss: 24.7915\n",
      "Epoch 20/50\n",
      "13/13 [==============================] - 0s 10ms/step - loss: 16.8373 - val_loss: 24.6008\n",
      "Epoch 21/50\n",
      "13/13 [==============================] - 0s 10ms/step - loss: 16.2158 - val_loss: 24.3315\n",
      "Epoch 22/50\n",
      "13/13 [==============================] - 0s 9ms/step - loss: 15.6732 - val_loss: 24.1737\n",
      "Epoch 23/50\n",
      "13/13 [==============================] - 0s 11ms/step - loss: 15.1503 - val_loss: 23.7524\n",
      "Epoch 24/50\n",
      "13/13 [==============================] - 0s 9ms/step - loss: 14.8497 - val_loss: 23.7185\n",
      "Epoch 25/50\n",
      "13/13 [==============================] - 0s 9ms/step - loss: 14.2989 - val_loss: 23.4587\n",
      "Epoch 26/50\n",
      "13/13 [==============================] - 0s 10ms/step - loss: 13.9262 - val_loss: 23.3307\n",
      "Epoch 27/50\n",
      "13/13 [==============================] - 0s 10ms/step - loss: 13.6119 - val_loss: 23.2803\n",
      "Epoch 28/50\n",
      "13/13 [==============================] - 0s 9ms/step - loss: 13.2746 - val_loss: 23.2749\n",
      "Epoch 29/50\n",
      "13/13 [==============================] - 0s 10ms/step - loss: 12.9776 - val_loss: 23.3573\n",
      "Epoch 30/50\n",
      "13/13 [==============================] - 0s 10ms/step - loss: 12.7307 - val_loss: 23.3910\n",
      "Epoch 31/50\n",
      "13/13 [==============================] - 0s 11ms/step - loss: 12.5091 - val_loss: 23.2449\n",
      "Epoch 32/50\n",
      "13/13 [==============================] - 0s 10ms/step - loss: 12.3979 - val_loss: 23.6491\n",
      "Epoch 33/50\n",
      "13/13 [==============================] - 0s 10ms/step - loss: 12.1883 - val_loss: 23.0997\n",
      "Epoch 34/50\n",
      "13/13 [==============================] - 0s 11ms/step - loss: 11.8497 - val_loss: 23.4244\n",
      "Epoch 35/50\n",
      "13/13 [==============================] - 0s 9ms/step - loss: 11.6321 - val_loss: 23.4339\n",
      "Epoch 36/50\n",
      "13/13 [==============================] - 0s 9ms/step - loss: 11.4540 - val_loss: 23.3547\n",
      "Epoch 37/50\n",
      "13/13 [==============================] - 0s 10ms/step - loss: 11.3402 - val_loss: 23.0380\n",
      "Epoch 38/50\n",
      "13/13 [==============================] - 0s 10ms/step - loss: 11.2063 - val_loss: 23.6626\n",
      "Epoch 39/50\n",
      "13/13 [==============================] - 0s 10ms/step - loss: 10.9829 - val_loss: 23.0828\n",
      "Epoch 40/50\n",
      "13/13 [==============================] - 0s 9ms/step - loss: 10.8561 - val_loss: 23.4515\n",
      "Epoch 41/50\n",
      "13/13 [==============================] - 0s 10ms/step - loss: 10.6880 - val_loss: 23.6231\n",
      "Epoch 42/50\n",
      "13/13 [==============================] - 0s 10ms/step - loss: 10.5393 - val_loss: 23.1981\n",
      "Epoch 43/50\n",
      "13/13 [==============================] - 0s 10ms/step - loss: 10.4464 - val_loss: 22.9840\n",
      "Epoch 44/50\n",
      "13/13 [==============================] - 0s 13ms/step - loss: 10.4565 - val_loss: 23.8132\n",
      "Epoch 45/50\n",
      "13/13 [==============================] - 0s 10ms/step - loss: 10.1874 - val_loss: 23.6108\n",
      "Epoch 46/50\n",
      "13/13 [==============================] - 0s 10ms/step - loss: 10.0570 - val_loss: 23.2896\n",
      "Epoch 47/50\n",
      "13/13 [==============================] - 0s 10ms/step - loss: 10.1459 - val_loss: 23.9844\n",
      "Epoch 48/50\n",
      "13/13 [==============================] - 0s 9ms/step - loss: 10.1302 - val_loss: 22.4286\n",
      "Epoch 49/50\n",
      "13/13 [==============================] - 0s 10ms/step - loss: 9.7444 - val_loss: 23.8219\n",
      "Epoch 50/50\n",
      "13/13 [==============================] - 0s 10ms/step - loss: 9.6822 - val_loss: 23.8270\n"
     ]
    },
    {
     "data": {
      "text/plain": [
       "<keras.callbacks.History at 0x2930d81afa0>"
      ]
     },
     "execution_count": 14,
     "metadata": {},
     "output_type": "execute_result"
    }
   ],
   "source": [
    "# Train the model\n",
    "model.fit(x_train_scaled, y_train, epochs=50, batch_size=32, validation_data=(x_test_scaled, y_test))"
   ]
  },
  {
   "cell_type": "code",
   "execution_count": 15,
   "metadata": {},
   "outputs": [
    {
     "name": "stdout",
     "output_type": "stream",
     "text": [
      "4/4 [==============================] - 0s 5ms/step - loss: 23.8270\n",
      "Test Loss: 23.826950073242188\n",
      "4/4 [==============================] - 0s 3ms/step\n",
      "Predicted: 8.373376 \tActual: 7.2\n",
      "Predicted: 17.117645 \tActual: 18.8\n",
      "Predicted: 21.746632 \tActual: 19.0\n",
      "Predicted: 31.465567 \tActual: 27.0\n",
      "Predicted: 25.86326 \tActual: 22.2\n",
      "Predicted: 17.434711 \tActual: 24.5\n",
      "Predicted: 25.71946 \tActual: 31.2\n",
      "Predicted: 21.703617 \tActual: 22.9\n",
      "Predicted: 19.059633 \tActual: 20.5\n",
      "Predicted: 22.822956 \tActual: 23.2\n"
     ]
    }
   ],
   "source": [
    "# Evaluate the model on the test set\n",
    "test_loss = model.evaluate(x_test_scaled, y_test)\n",
    "\n",
    "# Print the test loss\n",
    "print(\"Test Loss:\", test_loss)\n",
    "\n",
    "# Obtain predictions on the test set\n",
    "predictions = model.predict(x_test_scaled)\n",
    "\n",
    "# Display some predicted values and actual values\n",
    "for i in range(10):  # Displaying the first 10 predictions\n",
    "    print(\"Predicted:\", predictions[i][0], \"\\tActual:\", y_test[i])\n"
   ]
  },
  {
   "cell_type": "code",
   "execution_count": null,
   "metadata": {},
   "outputs": [],
   "source": []
  }
 ],
 "metadata": {
  "kernelspec": {
   "display_name": "tf_gpu",
   "language": "python",
   "name": "python3"
  },
  "language_info": {
   "codemirror_mode": {
    "name": "ipython",
    "version": 3
   },
   "file_extension": ".py",
   "mimetype": "text/x-python",
   "name": "python",
   "nbconvert_exporter": "python",
   "pygments_lexer": "ipython3",
   "version": "3.9.18"
  }
 },
 "nbformat": 4,
 "nbformat_minor": 2
}
